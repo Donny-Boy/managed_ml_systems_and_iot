{
  "nbformat": 4,
  "nbformat_minor": 0,
  "metadata": {
    "colab": {
      "name": "PROD_Chips.ipynb",
      "provenance": [],
      "collapsed_sections": [
        "-mhx2OUeCFFy",
        "_nVTYlRzB3Z7",
        "j0uKhloSMEDx",
        "AZ_bOisXDRc5",
        "ajVQgVU4M3I_",
        "m1lzOzMCDSCo",
        "I_Dk5S5OH1eM",
        "mT0knu-YKWqC",
        "kV6wqRvSDSa8",
        "PQXy87ZQYrvi",
        "8E7fxhfAZgmn",
        "0qwpp7DsgRLH",
        "mYX45leMDSqd",
        "mLRLoXN2jgV4",
        "HkO2Ygiocd0X",
        "nm-V3qykfQLK"
      ],
      "include_colab_link": true
    },
    "kernelspec": {
      "name": "python3",
      "display_name": "Python 3"
    },
    "accelerator": "GPU"
  },
  "cells": [
    {
      "cell_type": "markdown",
      "metadata": {
        "id": "view-in-github",
        "colab_type": "text"
      },
      "source": [
        "<a href=\"https://colab.research.google.com/github/noahgift/managed_ml_systems_and_iot/blob/master/PROD_Chips.ipynb\" target=\"_parent\"><img src=\"https://colab.research.google.com/assets/colab-badge.svg\" alt=\"Open In Colab\"/></a>"
      ]
    },
    {
      "cell_type": "markdown",
      "metadata": {
        "id": "Hat17x80OVRW",
        "colab_type": "text"
      },
      "source": [
        "# Managed Machine Learning Systems and Internet of Things\n",
        "\n",
        "![hero](https://user-images.githubusercontent.com/58792/45260894-08e67a00-b3a8-11e8-941f-e539cb10f8e1.jpg)"
      ]
    },
    {
      "cell_type": "markdown",
      "metadata": {
        "id": "4h6NFsfUOaUc",
        "colab_type": "text"
      },
      "source": [
        "## Pragmatic AI Labs\n",
        "\n"
      ]
    },
    {
      "cell_type": "markdown",
      "metadata": {
        "id": "ELi2P3zcBWu-",
        "colab_type": "text"
      },
      "source": [
        "![alt text](https://paiml.com/images/logo_with_slogan_white_background.png)\n",
        "\n",
        "This notebook was produced by [Pragmatic AI Labs](https://paiml.com/).  You can continue learning about these topics by:\n",
        "\n",
        "*   Buying a copy of [Pragmatic AI: An Introduction to Cloud-Based Machine Learning](http://www.informit.com/store/pragmatic-ai-an-introduction-to-cloud-based-machine-9780134863917)\n",
        "*   Reading an online copy of [Pragmatic AI:Pragmatic AI: An Introduction to Cloud-Based Machine Learning](https://www.safaribooksonline.com/library/view/pragmatic-ai-an/9780134863924/)\n",
        "*  Watching video [Essential Machine Learning and AI with Python and Jupyter Notebook-Video-SafariOnline](https://www.safaribooksonline.com/videos/essential-machine-learning/9780135261118) on Safari Books Online.\n",
        "* Watching video [AWS Certified Machine Learning-Speciality](https://learning.oreilly.com/videos/aws-certified-machine/9780135556597)\n",
        "* Purchasing video [Essential Machine Learning and AI with Python and Jupyter Notebook- Purchase Video](http://www.informit.com/store/essential-machine-learning-and-ai-with-python-and-jupyter-9780135261095)\n",
        "*   Viewing more content at [noahgift.com](https://noahgift.com/)"
      ]
    },
    {
      "cell_type": "markdown",
      "metadata": {
        "id": "-mhx2OUeCFFy",
        "colab_type": "text"
      },
      "source": [
        "# Chips\n",
        "\n",
        "\n"
      ]
    },
    {
      "cell_type": "markdown",
      "metadata": {
        "id": "_nVTYlRzB3Z7",
        "colab_type": "text"
      },
      "source": [
        "## Introductory Concepts in Hardware AI and IoT"
      ]
    },
    {
      "cell_type": "markdown",
      "metadata": {
        "id": "mb_rCjqF2U14",
        "colab_type": "text"
      },
      "source": [
        "### Golden Era\n",
        "\n",
        "![Golden Era of Computer Architecture](https://user-images.githubusercontent.com/58792/44999482-688cf180-af72-11e8-80ee-7c15be551bc3.png)\n",
        "\n",
        "Source: https://riscv.org/wp-content/uploads/2017/05/Mon0915-RISC-V-50-Years-Computer-Arch.pdf\n"
      ]
    },
    {
      "cell_type": "markdown",
      "metadata": {
        "id": "V0Rurw6B48JV",
        "colab_type": "text"
      },
      "source": [
        "### Amhdal's Law\n",
        "\n",
        "![Amhdal's Law](https://upload.wikimedia.org/wikipedia/commons/e/ea/AmdahlsLaw.svg)\n",
        "\n",
        "\n",
        "Source:  https://upload.wikimedia.org/wikipedia/commons/e/ea/AmdahlsLaw.svg"
      ]
    },
    {
      "cell_type": "markdown",
      "metadata": {
        "id": "j0uKhloSMEDx",
        "colab_type": "text"
      },
      "source": [
        "### ASIC vs CPU vs GPU\n",
        "\n",
        "**TPU in Production**\n",
        "![TPU Production](https://user-images.githubusercontent.com/58792/45001200-fd4a1c00-af7f-11e8-8fef-530cf2d70ada.png)\n",
        "\n",
        "**CPU**\n",
        "![How CPUs work](https://user-images.githubusercontent.com/58792/45001241-5d40c280-af80-11e8-9a82-81f900995721.png)\n",
        "\n",
        "**GPU**\n",
        "![GPUs work](https://user-images.githubusercontent.com/58792/45001287-b90b4b80-af80-11e8-9cc7-cc6d2fb2b19c.png)\n",
        "\n",
        "**TPU**\n",
        "![TPUs work](https://user-images.githubusercontent.com/58792/45001315-ef48cb00-af80-11e8-8880-aa59a272e095.png)\n",
        "\n",
        "Sources: https://storage.googleapis.com/nexttpu/index.html\n"
      ]
    },
    {
      "cell_type": "code",
      "metadata": {
        "id": "qzFAK40HCO3E",
        "colab_type": "code",
        "colab": {}
      },
      "source": [
        ""
      ],
      "execution_count": 0,
      "outputs": []
    },
    {
      "cell_type": "markdown",
      "metadata": {
        "id": "AZ_bOisXDRc5",
        "colab_type": "text"
      },
      "source": [
        "## Emerging Hardware AI and Managed ML Platforms\n",
        "\n",
        "\n",
        "Dedicated AI Hardware + Better ML Framework Cloud-Native Abstractions\n",
        "\n",
        "\n",
        "**Examples:**\n",
        "\n",
        "* AWS Sagemaker\n",
        "* AWS DeepLense\n",
        "* Google Machine Learning Engine\n",
        "* Google BigQueryML\n",
        "* Google AutoML\n",
        "\n"
      ]
    },
    {
      "cell_type": "code",
      "metadata": {
        "id": "Gp2QOI5IDRpe",
        "colab_type": "code",
        "colab": {}
      },
      "source": [
        ""
      ],
      "execution_count": 0,
      "outputs": []
    },
    {
      "cell_type": "markdown",
      "metadata": {
        "id": "ajVQgVU4M3I_",
        "colab_type": "text"
      },
      "source": [
        "## CPUs\n",
        "\n",
        "\n",
        "\n",
        "*   Stuck in 3% Yearly Performance Growth\n",
        "*   Part of the Machine Learning Solution, not **THE** solution of the future\n",
        "\n"
      ]
    },
    {
      "cell_type": "code",
      "metadata": {
        "id": "DzddaE_1M30f",
        "colab_type": "code",
        "colab": {}
      },
      "source": [
        ""
      ],
      "execution_count": 0,
      "outputs": []
    },
    {
      "cell_type": "markdown",
      "metadata": {
        "id": "m1lzOzMCDSCo",
        "colab_type": "text"
      },
      "source": [
        "## TPUs\n",
        "\n",
        "\n",
        "\n",
        "\n",
        "\n"
      ]
    },
    {
      "cell_type": "markdown",
      "metadata": {
        "id": "x_DA-TyN09Pr",
        "colab_type": "text"
      },
      "source": [
        "TPU MNIST training code snippit\n",
        "\n",
        "```python\n",
        "python /usr/share/models/official/mnist/mnist_tpu.py \\\n",
        "  --tpu=$TPU_NAME \\\n",
        "  --data_dir=${STORAGE_BUCKET}/data \\\n",
        "  --model_dir=${STORAGE_BUCKET}/output \\\n",
        "  --use_tpu=True \\\n",
        "  --iterations=500 \\\n",
        "  --train_steps=2000\n",
        "```\n",
        "\n",
        "\n",
        "\n",
        "**Resources:**\n",
        "\n",
        "\n",
        "\n",
        "*   [Minst](https://cloud.google.com/tpu/docs/tutorials/mnist)\n"
      ]
    },
    {
      "cell_type": "markdown",
      "metadata": {
        "id": "I_Dk5S5OH1eM",
        "colab_type": "text"
      },
      "source": [
        "## AWS Inferentia"
      ]
    },
    {
      "cell_type": "markdown",
      "metadata": {
        "id": "VgLPHfFhICoT",
        "colab_type": "text"
      },
      "source": [
        "[AWS Inferentia](https://aws.amazon.com/machine-learning/inferentia/)\n",
        "\n",
        "\n",
        "\n",
        "*   machine learning inference chip \n",
        "*   will support the TensorFlow, Apache MXNet, and PyTorch deep learning frameworks, as well as models that use the ONNX format\n",
        "\n"
      ]
    },
    {
      "cell_type": "markdown",
      "metadata": {
        "id": "mT0knu-YKWqC",
        "colab_type": "text"
      },
      "source": [
        "## Amazon Elastic Inference"
      ]
    },
    {
      "cell_type": "markdown",
      "metadata": {
        "id": "Beiajj5FK1Ol",
        "colab_type": "text"
      },
      "source": [
        "\n",
        "[Elastic Inference](https://aws.amazon.com/machine-learning/elastic-inference/)\n",
        "\n",
        "*  to attach low-cost GPU-powered acceleration to Amazon EC2 and Amazon SageMaker instances \n",
        "*  inference—can drive as much as 90% of the compute costs of the application\n",
        "*  supports TensorFlow and MXnet\n",
        "\n"
      ]
    },
    {
      "cell_type": "markdown",
      "metadata": {
        "id": "kV6wqRvSDSa8",
        "colab_type": "text"
      },
      "source": [
        "## GPUs \n",
        "\n"
      ]
    },
    {
      "cell_type": "markdown",
      "metadata": {
        "id": "PQXy87ZQYrvi",
        "colab_type": "text"
      },
      "source": [
        "### Nvidia GPU\n"
      ]
    },
    {
      "cell_type": "markdown",
      "metadata": {
        "id": "P9AunxhpnfHz",
        "colab_type": "text"
      },
      "source": [
        "\n",
        "![NVidia](https://user-images.githubusercontent.com/58792/45267130-a333d580-b41b-11e8-8548-5a773b381b8f.png)\n",
        "\n",
        "[Machine Learning with NVidia](https://www.nvidia.com/object/machine-learning.html)\n",
        "\n",
        "*  [Deep Learning Institute](https://www.nvidia.com/en-us/deep-learning-ai/education/)\n",
        "\n",
        "\n",
        "\n"
      ]
    },
    {
      "cell_type": "code",
      "metadata": {
        "id": "qopTUzySDSis",
        "colab_type": "code",
        "colab": {}
      },
      "source": [
        ""
      ],
      "execution_count": 0,
      "outputs": []
    },
    {
      "cell_type": "markdown",
      "metadata": {
        "id": "8E7fxhfAZgmn",
        "colab_type": "text"
      },
      "source": [
        "### AMD GPU\n",
        "\n",
        "\n",
        "\n",
        "\n"
      ]
    },
    {
      "cell_type": "markdown",
      "metadata": {
        "id": "6yYvP1DGfWaK",
        "colab_type": "text"
      },
      "source": [
        "![Radeon Instinct](https://user-images.githubusercontent.com/58792/45267237-a334d500-b41d-11e8-9097-5968c53f034c.png)\n",
        "\n",
        "![Human Brain?](https://user-images.githubusercontent.com/58792/45267301-d6c42f00-b41e-11e8-8349-ca15e5f93392.png)\n",
        "\n",
        "[AMD Deep Learning](https://www.amd.com/en/graphics/servers-radeon-instinct-deep-learning)\n",
        "\n",
        "\n",
        "\n",
        "*   [Machine Learning vs Deep Learning](https://www.amd.com/en/technologies/deep-machine-learning)\n",
        "*   [ROCm](https://rocm.github.io/index.html)\n"
      ]
    },
    {
      "cell_type": "code",
      "metadata": {
        "id": "M3VIl1ePeBK9",
        "colab_type": "code",
        "outputId": "deb6a355-2eaa-4d9c-9c80-30e769f045b2",
        "colab": {
          "base_uri": "https://localhost:8080/",
          "height": 335
        }
      },
      "source": [
        "from IPython.display import HTML\n",
        "HTML('<iframe width=\"560\" height=\"315\" src=\"https://www.youtube.com/embed/ZSMaMKbw1y0?rel=0&amp;controls=0&amp;showinfo=0\" frameborder=\"0\" allowfullscreen></iframe>')"
      ],
      "execution_count": 0,
      "outputs": [
        {
          "output_type": "execute_result",
          "data": {
            "text/html": [
              "<iframe width=\"560\" height=\"315\" src=\"https://www.youtube.com/embed/ZSMaMKbw1y0?rel=0&amp;controls=0&amp;showinfo=0\" frameborder=\"0\" allowfullscreen></iframe>"
            ],
            "text/plain": [
              "<IPython.core.display.HTML object>"
            ]
          },
          "metadata": {
            "tags": []
          },
          "execution_count": 1
        }
      ]
    },
    {
      "cell_type": "markdown",
      "metadata": {
        "id": "0qwpp7DsgRLH",
        "colab_type": "text"
      },
      "source": [
        "### Intel"
      ]
    },
    {
      "cell_type": "markdown",
      "metadata": {
        "id": "J_cbPYdPgVYI",
        "colab_type": "text"
      },
      "source": [
        "![Intel AI Academy](https://user-images.githubusercontent.com/58792/45267399-746c2e00-b420-11e8-84de-0657e9593f78.png)\n",
        "\n",
        "![Intel Dev Cloud](https://user-images.githubusercontent.com/58792/45267467-ac27a580-b421-11e8-969f-bcca059f6536.png)\n",
        "\n",
        "[Intel AI Academy](https://software.intel.com/en-us/ai-academy)\n",
        "\n",
        "\n",
        "*   [Intel AI Academy Tensorflow Tutorial](https://software.intel.com/en-us/articles/using-tensorflow-for-deep-learning-training-and-testing)\n",
        "*   [Intel AI DevCloud](https://software.intel.com/en-us/ai-academy/devcloud)\n",
        "\n",
        "\n",
        "\n"
      ]
    },
    {
      "cell_type": "markdown",
      "metadata": {
        "id": "mYX45leMDSqd",
        "colab_type": "text"
      },
      "source": [
        "## FPGA \n"
      ]
    },
    {
      "cell_type": "markdown",
      "metadata": {
        "id": "mLRLoXN2jgV4",
        "colab_type": "text"
      },
      "source": [
        "### Amazon F1 Instances\n",
        "\n",
        "![Amazon FGPA](https://user-images.githubusercontent.com/58792/45267490-3839cd00-b422-11e8-9cb9-de0c1a559280.png)\n",
        "\n",
        "![FPGA](https://user-images.githubusercontent.com/58792/45267584-06c20100-b424-11e8-892e-9fe55a84f338.png)\n",
        "\n",
        "[Amazon EC2 F1 Instances](https://aws.amazon.com/ec2/instance-types/f1/)\n",
        "\n",
        "\n",
        "\n",
        "*   [Amazon EC2 F1 Webinar](https://youtu.be/5sDVprory3c)\n",
        "*   [Reconfigure IO](https://reconfigure.io/) A platform for software defined chips\n",
        "\n"
      ]
    },
    {
      "cell_type": "code",
      "metadata": {
        "id": "3KaksDKBDSyD",
        "colab_type": "code",
        "outputId": "998f79bc-2149-467c-acda-96842ccc340d",
        "colab": {
          "base_uri": "https://localhost:8080/",
          "height": 335
        }
      },
      "source": [
        "from IPython.display import HTML\n",
        "HTML('<iframe width=\"560\" height=\"315\" src=\"https://www.youtube.com/embed/5sDVprory3c?rel=0&amp;controls=0&amp;showinfo=0\" frameborder=\"0\" allowfullscreen></iframe>')"
      ],
      "execution_count": 0,
      "outputs": [
        {
          "output_type": "execute_result",
          "data": {
            "text/html": [
              "<iframe width=\"560\" height=\"315\" src=\"https://www.youtube.com/embed/5sDVprory3c?rel=0&amp;controls=0&amp;showinfo=0\" frameborder=\"0\" allowfullscreen></iframe>"
            ],
            "text/plain": [
              "<IPython.core.display.HTML object>"
            ]
          },
          "metadata": {
            "tags": []
          },
          "execution_count": 2
        }
      ]
    },
    {
      "cell_type": "markdown",
      "metadata": {
        "id": "HkO2Ygiocd0X",
        "colab_type": "text"
      },
      "source": [
        "## A11/12 Chip\n",
        "\n",
        "Apple Designed Chip for iOS that includes integrated GPU and dedicated neural network hardware."
      ]
    },
    {
      "cell_type": "markdown",
      "metadata": {
        "id": "PgbVUbVKtz1A",
        "colab_type": "text"
      },
      "source": [
        "[A11 \"Neural Engine\" Chip from Apple](https://en.wikipedia.org/wiki/Apple_A11)\n",
        "![A11](https://user-images.githubusercontent.com/58792/45267788-6e7a4b00-b428-11e8-99c2-e80827961480.jpg)\n",
        "![CreateML](https://user-images.githubusercontent.com/58792/45268030-03cb0e80-b42c-11e8-9a47-b8eef57e74a6.png)\n",
        "\n",
        "\n",
        "*  [600 billion operations per second](https://www.apple.com/newsroom/2017/09/the-future-is-here-iphone-x/)\n",
        "*  [Metal for Accelerating Machine Learning](https://developer.apple.com/videos/play/wwdc2018/609/)\n",
        "*  [Introducing Create ML](https://developer.apple.com/videos/play/wwdc2018/703/)\n",
        "*  [What's New in Core ML](https://developer.apple.com/videos/play/wwdc2018/708/)\n",
        "*  [AWS Lambda + Swift](https://medium.com/capital-one-developers/serverless-computing-with-swift-f515ff052919) Tangentially related...running Swift code in AWS Lambda\n"
      ]
    },
    {
      "cell_type": "code",
      "metadata": {
        "id": "Oaz3fzwvcd0Z",
        "colab_type": "code",
        "colab": {}
      },
      "source": [
        ""
      ],
      "execution_count": 0,
      "outputs": []
    },
    {
      "cell_type": "markdown",
      "metadata": {
        "id": "6JRSfoXScqc-",
        "colab_type": "text"
      },
      "source": [
        "## AWS IoT Ecosystem\n",
        "\n"
      ]
    },
    {
      "cell_type": "markdown",
      "metadata": {
        "id": "ct4ISjzyLxWQ",
        "colab_type": "text"
      },
      "source": [
        "Many New Services from ***Reinvent 2018***\n",
        "\n",
        "* [IoT Graph](https://aws.amazon.com/about-aws/whats-new/2018/11/iot-things-graph-now-in-preview/)\n",
        "* [IoT Events](https://aws.amazon.com/about-aws/whats-new/2018/11/introducing-aws-iot-events-now-available-in-preview/)\n",
        "* [IoT SiteWise](https://aws.amazon.com/about-aws/whats-new/2018/11/announcing-aws-iot-sitewise-now-available-in-limited-preview/)\n",
        "* [IoT Device Tester](https://aws.amazon.com/about-aws/whats-new/2018/11/bluetooth-low-energy-ble-support-in-amazon-freertos-now-available-in-beta/)\n",
        "\n",
        "\n"
      ]
    },
    {
      "cell_type": "markdown",
      "metadata": {
        "id": "QD75VVPNyGLe",
        "colab_type": "text"
      },
      "source": [
        "![DeepLense ](https://user-images.githubusercontent.com/58792/45337586-a6bf7d80-b53d-11e8-9796-ecef716335a8.png)\n",
        "\n",
        "Greengrass part of Embedded Machine Intelligence Platform\n",
        "\n",
        "[AWS Greengrass](https://aws.amazon.com/greengrass/)\n",
        "\n",
        "**Dev Kits**\n",
        "\n",
        "![aws iot dev kit](https://user-images.githubusercontent.com/58792/46483952-a6697980-c7ad-11e8-84e5-90beb17a460f.jpg)\n",
        "\n",
        "![AWS IoT](https://user-images.githubusercontent.com/58792/46484897-8935aa80-c7af-11e8-9f73-940d1dca9ad1.jpg)\n",
        "\n",
        "**Resource Examples:**\n",
        "\n",
        "* [DeepLens AWS Blog](https://aws.amazon.com/blogs/aws/deeplens/)"
      ]
    },
    {
      "cell_type": "markdown",
      "metadata": {
        "id": "nm-V3qykfQLK",
        "colab_type": "text"
      },
      "source": [
        "## Azure IoT Ecosystem"
      ]
    },
    {
      "cell_type": "markdown",
      "metadata": {
        "id": "nRbbApUMn9b6",
        "colab_type": "text"
      },
      "source": [
        "[Azure IoT kits](https://microsoft.github.io/azure-iot-developer-kit/)\n",
        "\n",
        "Integrated into Visual Studio via Azure IoT Workbench\n",
        "\n",
        "![mxchip](https://user-images.githubusercontent.com/58792/46483506-a9179f00-c7ac-11e8-8c48-3a87f49c12f9.jpg)"
      ]
    },
    {
      "cell_type": "code",
      "metadata": {
        "id": "dI9IwAyfcqc_",
        "colab_type": "code",
        "colab": {}
      },
      "source": [
        ""
      ],
      "execution_count": 0,
      "outputs": []
    },
    {
      "cell_type": "markdown",
      "metadata": {
        "id": "Ju6xqhsJw-MR",
        "colab_type": "text"
      },
      "source": [
        "## GPU Demos"
      ]
    },
    {
      "cell_type": "markdown",
      "metadata": {
        "id": "Re9jdU5nxBYx",
        "colab_type": "text"
      },
      "source": [
        "### Mandelbrot"
      ]
    },
    {
      "cell_type": "code",
      "metadata": {
        "id": "RizeFcTRRSBP",
        "colab_type": "code",
        "colab": {
          "base_uri": "https://localhost:8080/",
          "height": 211
        },
        "outputId": "02ab9502-596c-4600-9f30-19bd3a7ad5c4"
      },
      "source": [
        "%matplotlib inline\n",
        "from matplotlib import pyplot as plt\n",
        "import numpy as np\n",
        "import math\n",
        "from numba import jit, njit, vectorize, cuda"
      ],
      "execution_count": 12,
      "outputs": [
        {
          "output_type": "stream",
          "text": [
            "/usr/local/lib/python3.6/dist-packages/numba/cuda/envvars.py:17: NumbaWarning: \n",
            "Environment variables with the 'NUMBAPRO' prefix are deprecated and consequently ignored, found use of NUMBAPRO_NVVM=/usr/local/cuda-10.0/nvvm/lib64/libnvvm.so.\n",
            "\n",
            "For more information about alternatives visit: ('http://numba.pydata.org/numba-doc/latest/cuda/overview.html', '#cudatoolkit-lookup')\n",
            "  warnings.warn(errors.NumbaWarning(msg))\n",
            "/usr/local/lib/python3.6/dist-packages/numba/cuda/envvars.py:17: NumbaWarning: \n",
            "Environment variables with the 'NUMBAPRO' prefix are deprecated and consequently ignored, found use of NUMBAPRO_LIBDEVICE=/usr/local/cuda-10.0/nvvm/libdevice.\n",
            "\n",
            "For more information about alternatives visit: ('http://numba.pydata.org/numba-doc/latest/cuda/overview.html', '#cudatoolkit-lookup')\n",
            "  warnings.warn(errors.NumbaWarning(msg))\n"
          ],
          "name": "stderr"
        }
      ]
    },
    {
      "cell_type": "code",
      "metadata": {
        "id": "_9_HoXwERH1i",
        "colab_type": "code",
        "colab": {
          "base_uri": "https://localhost:8080/",
          "height": 156
        },
        "outputId": "d5af34db-393d-43ee-e473-4d170d9893ed"
      },
      "source": [
        "!pip install numba\n",
        "!find / -iname 'libdevice'\n",
        "!find / -iname 'libnvvm.so'"
      ],
      "execution_count": 11,
      "outputs": [
        {
          "output_type": "stream",
          "text": [
            "Requirement already satisfied: numba in /usr/local/lib/python3.6/dist-packages (0.47.0)\n",
            "Requirement already satisfied: numpy in /usr/local/lib/python3.6/dist-packages (from numba) (1.17.5)\n",
            "Requirement already satisfied: setuptools in /usr/local/lib/python3.6/dist-packages (from numba) (45.1.0)\n",
            "Requirement already satisfied: llvmlite>=0.31.0dev0 in /usr/local/lib/python3.6/dist-packages (from numba) (0.31.0)\n",
            "/usr/local/cuda-10.0/nvvm/libdevice\n",
            "/usr/local/cuda-10.1/nvvm/libdevice\n",
            "/usr/local/cuda-10.0/nvvm/lib64/libnvvm.so\n",
            "/usr/local/cuda-10.1/nvvm/lib64/libnvvm.so\n"
          ],
          "name": "stdout"
        }
      ]
    },
    {
      "cell_type": "code",
      "metadata": {
        "id": "jZEihqKCREZx",
        "colab_type": "code",
        "colab": {}
      },
      "source": [
        "import os\n",
        "os.environ['NUMBAPRO_LIBDEVICE'] = \"/usr/local/cuda-10.0/nvvm/libdevice\"\n",
        "os.environ['NUMBAPRO_NVVM'] = \"/usr/local/cuda-10.0/nvvm/lib64/libnvvm.so\""
      ],
      "execution_count": 0,
      "outputs": []
    },
    {
      "cell_type": "markdown",
      "metadata": {
        "id": "9iISjADi2D_Y",
        "colab_type": "text"
      },
      "source": [
        "##### Non-GPU Mandelbrot"
      ]
    },
    {
      "cell_type": "code",
      "metadata": {
        "id": "APrhGfCC1xlG",
        "colab_type": "code",
        "colab": {}
      },
      "source": [
        "import numpy as np\n",
        "from pylab import imshow, show\n",
        "from timeit import default_timer as timer"
      ],
      "execution_count": 0,
      "outputs": []
    },
    {
      "cell_type": "code",
      "metadata": {
        "id": "T6KviMLo10I9",
        "colab_type": "code",
        "colab": {}
      },
      "source": [
        "def mandel(x, y, max_iters):\n",
        "  \"\"\"\n",
        "    Given the real and imaginary parts of a complex number,\n",
        "    determine if it is a candidate for membership in the Mandelbrot\n",
        "    set given a fixed number of iterations.\n",
        "  \"\"\"\n",
        "  c = complex(x, y)\n",
        "  z = 0.0j\n",
        "  for i in range(max_iters):\n",
        "    z = z*z + c\n",
        "    if (z.real*z.real + z.imag*z.imag) >= 4:\n",
        "      return i\n",
        "\n",
        "  return max_iters"
      ],
      "execution_count": 0,
      "outputs": []
    },
    {
      "cell_type": "code",
      "metadata": {
        "id": "_2K9mG5P12b1",
        "colab_type": "code",
        "colab": {}
      },
      "source": [
        "def create_fractal(min_x, max_x, min_y, max_y, image, iters):\n",
        "  height = image.shape[0]\n",
        "  width = image.shape[1]\n",
        "\n",
        "  pixel_size_x = (max_x - min_x) / width\n",
        "  pixel_size_y = (max_y - min_y) / height\n",
        "    \n",
        "  for x in range(width):\n",
        "    real = min_x + x * pixel_size_x\n",
        "    for y in range(height):\n",
        "      imag = min_y + y * pixel_size_y\n",
        "      color = mandel(real, imag, iters)\n",
        "      image[y, x] = color"
      ],
      "execution_count": 0,
      "outputs": []
    },
    {
      "cell_type": "code",
      "metadata": {
        "id": "3SdUxzp-19Jc",
        "colab_type": "code",
        "outputId": "dd8a7a8c-ea0c-464c-f9b9-e306f81bf6ad",
        "colab": {
          "base_uri": "https://localhost:8080/",
          "height": 287
        }
      },
      "source": [
        "image = np.zeros((1024, 1536), dtype = np.uint8)\n",
        "start = timer()\n",
        "create_fractal(-2.0, 1.0, -1.0, 1.0, image, 20) \n",
        "dt = timer() - start\n",
        "\n",
        "print(\"Mandelbrot created in %f s\" % dt)\n",
        "imshow(image)\n",
        "show()"
      ],
      "execution_count": 17,
      "outputs": [
        {
          "output_type": "stream",
          "text": [
            "Mandelbrot created in 4.369222 s\n"
          ],
          "name": "stdout"
        },
        {
          "output_type": "display_data",
          "data": {
            "image/png": "[encoded data removed]",
            "text/plain": [
              "<Figure size 432x288 with 1 Axes>"
            ]
          },
          "metadata": {
            "tags": []
          }
        }
      ]
    },
    {
      "cell_type": "markdown",
      "metadata": {
        "id": "3eBtMqwD2I4f",
        "colab_type": "text"
      },
      "source": [
        "##### Numba Mandelbrot"
      ]
    },
    {
      "cell_type": "markdown",
      "metadata": {
        "id": "Jjzp4kAj7yN5",
        "colab_type": "text"
      },
      "source": [
        "Numba is [LLVM JIT](http://numba.pydata.org/) support for Python"
      ]
    },
    {
      "cell_type": "markdown",
      "metadata": {
        "id": "P1M03OI67s08",
        "colab_type": "text"
      },
      "source": [
        "###### Run Numba Mandelbrot"
      ]
    },
    {
      "cell_type": "code",
      "metadata": {
        "id": "d8IlJnNu2e1W",
        "colab_type": "code",
        "colab": {}
      },
      "source": [
        "from numba import jit\n",
        "\n",
        "@jit\n",
        "def mandel(x, y, max_iters):\n",
        "  \"\"\"\n",
        "    Given the real and imaginary parts of a complex number,\n",
        "    determine if it is a candidate for membership in the Mandelbrot\n",
        "    set given a fixed number of iterations.\n",
        "  \"\"\"\n",
        "  c = complex(x, y)\n",
        "  z = 0.0j\n",
        "  for i in range(max_iters):\n",
        "    z = z*z + c\n",
        "    if (z.real*z.real + z.imag*z.imag) >= 4:\n",
        "      return i\n",
        "\n",
        "  return max_iters\n",
        "\n",
        "@jit\n",
        "def create_fractal(min_x, max_x, min_y, max_y, image, iters):\n",
        "  height = image.shape[0]\n",
        "  width = image.shape[1]\n",
        "\n",
        "  pixel_size_x = (max_x - min_x) / width\n",
        "  pixel_size_y = (max_y - min_y) / height\n",
        "    \n",
        "  for x in range(width):\n",
        "    real = min_x + x * pixel_size_x\n",
        "    for y in range(height):\n",
        "      imag = min_y + y * pixel_size_y\n",
        "      color = mandel(real, imag, iters)\n",
        "      image[y, x] = color"
      ],
      "execution_count": 0,
      "outputs": []
    },
    {
      "cell_type": "code",
      "metadata": {
        "id": "g0ovBdjl2rsn",
        "colab_type": "code",
        "outputId": "08855a5d-caaf-4bc9-9549-f1b4cff171ff",
        "colab": {
          "base_uri": "https://localhost:8080/",
          "height": 366
        }
      },
      "source": [
        "image = np.zeros((1024, 1536), dtype = np.uint8)\n",
        "start = timer()\n",
        "create_fractal(-2.0, 1.0, -1.0, 1.0, image, 20) \n",
        "dt = timer() - start\n",
        "\n",
        "print(\"Mandelbrot created in %f s\" % dt)\n",
        "imshow(image)\n",
        "show()"
      ],
      "execution_count": 0,
      "outputs": [
        {
          "output_type": "stream",
          "text": [
            "Mandelbrot created in 0.310116 s\n"
          ],
          "name": "stdout"
        },
        {
          "output_type": "display_data",
          "data": {
            "image/png": "[encoded data removed]",
            "text/plain": [
              "<matplotlib.figure.Figure at 0x7f0d3e663c88>"
            ]
          },
          "metadata": {
            "tags": []
          }
        }
      ]
    },
    {
      "cell_type": "markdown",
      "metadata": {
        "id": "13WPkJ5P2ud1",
        "colab_type": "text"
      },
      "source": [
        "##### CUDA GPU Mandelbrot"
      ]
    },
    {
      "cell_type": "code",
      "metadata": {
        "id": "Bg00L6HA21Oe",
        "colab_type": "code",
        "colab": {}
      },
      "source": [
        "from numba import cuda\n",
        "from numba import *\n",
        "\n",
        "mandel_gpu = cuda.jit(restype=uint32, argtypes=[f8, f8, uint32], device=True)(mandel)"
      ],
      "execution_count": 0,
      "outputs": []
    },
    {
      "cell_type": "code",
      "metadata": {
        "id": "M31bUz5Y22sx",
        "colab_type": "code",
        "colab": {}
      },
      "source": [
        "@cuda.jit(argtypes=[f8, f8, f8, f8, uint8[:,:], uint32])\n",
        "def mandel_kernel(min_x, max_x, min_y, max_y, image, iters):\n",
        "  height = image.shape[0]\n",
        "  width = image.shape[1]\n",
        "\n",
        "  pixel_size_x = (max_x - min_x) / width\n",
        "  pixel_size_y = (max_y - min_y) / height\n",
        "\n",
        "  startX, startY = cuda.grid(2)\n",
        "  gridX = cuda.gridDim.x * cuda.blockDim.x;\n",
        "  gridY = cuda.gridDim.y * cuda.blockDim.y;\n",
        "\n",
        "  for x in range(startX, width, gridX):\n",
        "    real = min_x + x * pixel_size_x\n",
        "    for y in range(startY, height, gridY):\n",
        "      imag = min_y + y * pixel_size_y \n",
        "      image[y, x] = mandel_gpu(real, imag, iters)"
      ],
      "execution_count": 0,
      "outputs": []
    },
    {
      "cell_type": "code",
      "metadata": {
        "id": "hfH-xwR_7WX0",
        "colab_type": "code",
        "colab": {
          "base_uri": "https://localhost:8080/",
          "height": 287
        },
        "outputId": "744eadec-74a5-4451-8044-b8708951f4ab"
      },
      "source": [
        "image = np.zeros((1024, 1536), dtype = np.uint8)\n",
        "start = timer()\n",
        "create_fractal(-2.0, 1.0, -1.0, 1.0, image, 20) \n",
        "dt = timer() - start\n",
        "\n",
        "print(\"Mandelbrot created in %f s\" % dt)\n",
        "imshow(image)\n",
        "show()"
      ],
      "execution_count": 25,
      "outputs": [
        {
          "output_type": "stream",
          "text": [
            "Mandelbrot created in 0.344193 s\n"
          ],
          "name": "stdout"
        },
        {
          "output_type": "display_data",
          "data": {
            "image/png": "[encoded data removed]",
            "text/plain": [
              "<Figure size 432x288 with 1 Axes>"
            ]
          },
          "metadata": {
            "tags": []
          }
        }
      ]
    },
    {
      "cell_type": "markdown",
      "metadata": {
        "id": "9yeFvfri9qC6",
        "colab_type": "text"
      },
      "source": [
        "##### Cuda Vectorize"
      ]
    },
    {
      "cell_type": "code",
      "metadata": {
        "id": "apd8ic7m-BZB",
        "colab_type": "code",
        "colab": {
          "base_uri": "https://localhost:8080/",
          "height": 225
        },
        "outputId": "6d7c8e4d-b04d-4c62-c9a8-1821216590ed"
      },
      "source": [
        "from numba import (cuda, vectorize)\n",
        "import pandas as pd\n",
        "import numpy as np\n",
        "from sklearn.preprocessing import MinMaxScaler\n",
        "from sklearn.cluster import KMeans\n",
        "\n",
        "from functools import wraps\n",
        "from time import time\n",
        "\n",
        "def real_estate_df():\n",
        "    \"\"\"30 Years of Housing Prices\"\"\"\n",
        "\n",
        "    df = pd.read_csv(\"https://raw.githubusercontent.com/noahgift/real_estate_ml/master/data/Zip_Zhvi_SingleFamilyResidence.csv\")\n",
        "    df.rename(columns={\"RegionName\":\"ZipCode\"}, inplace=True)\n",
        "    df[\"ZipCode\"]=df[\"ZipCode\"].map(lambda x: \"{:.0f}\".format(x))\n",
        "    df[\"RegionID\"]=df[\"RegionID\"].map(lambda x: \"{:.0f}\".format(x))\n",
        "    return df\n",
        "\n",
        "def numerical_real_estate_array(df):\n",
        "    \"\"\"Converts df to numpy numerical array\"\"\"\n",
        "\n",
        "    columns_to_drop = ['RegionID', 'ZipCode', 'City', 'State', 'Metro', 'CountyName']\n",
        "    df_numerical = df.dropna()\n",
        "    df_numerical = df_numerical.drop(columns_to_drop, axis=1)\n",
        "    return df_numerical.values\n",
        "\n",
        "def real_estate_array():\n",
        "    \"\"\"Returns Real Estate Array\"\"\"\n",
        "\n",
        "    df = real_estate_df()\n",
        "    rea = numerical_real_estate_array(df)\n",
        "    return np.float32(rea)\n",
        "\n",
        "\n",
        "@vectorize(['float32(float32, float32)'], target='cuda')\n",
        "def add_ufunc(x, y):\n",
        "    return x + y\n",
        "\n",
        "def cuda_operation():\n",
        "    \"\"\"Performs Vectorized Operations on GPU\"\"\"\n",
        "\n",
        "    x = real_estate_array()\n",
        "    y = real_estate_array()\n",
        "\n",
        "    print(\"Moving calculations to GPU memory\")\n",
        "    x_device = cuda.to_device(x)\n",
        "    y_device = cuda.to_device(y)\n",
        "    out_device = cuda.device_array(\n",
        "        shape=(x_device.shape[0],x_device.shape[1]), dtype=np.float32)\n",
        "    print(x_device)\n",
        "    print(x_device.shape)\n",
        "    print(x_device.dtype)\n",
        "\n",
        "    print(\"Calculating on GPU\")\n",
        "    add_ufunc(x_device,y_device, out=out_device)\n",
        "\n",
        "    out_host = out_device.copy_to_host()\n",
        "    print(f\"Calculations from GPU {out_host}\")\n",
        "\n",
        "cuda_operation()"
      ],
      "execution_count": 26,
      "outputs": [
        {
          "output_type": "stream",
          "text": [
            "Moving calculations to GPU memory\n",
            "<numba.cuda.cudadrv.devicearray.DeviceNDArray object at 0x7fd32514df60>\n",
            "(10015, 259)\n",
            "float32\n",
            "Calculating on GPU\n",
            "Calculations from GPU [[2.0000e+00 8.4160e+05 8.4700e+05 ... 2.1086e+06 2.0970e+06 2.0888e+06]\n",
            " [4.0000e+00 1.0848e+06 1.0934e+06 ... 3.0316e+06 3.0398e+06 3.0506e+06]\n",
            " [6.0000e+00 1.4180e+05 1.4240e+05 ... 2.2760e+05 2.2700e+05 2.2660e+05]\n",
            " ...\n",
            " [3.0554e+04 1.9780e+05 1.9620e+05 ... 4.3960e+05 4.4000e+05 4.4080e+05]\n",
            " [3.0560e+04 1.7340e+05 1.7500e+05 ... 3.8140e+05 3.8460e+05 3.8720e+05]\n",
            " [3.0562e+04 5.0700e+05 5.0800e+05 ... 1.5672e+06 1.5590e+06 1.5484e+06]]\n"
          ],
          "name": "stdout"
        }
      ]
    },
    {
      "cell_type": "code",
      "metadata": {
        "id": "t_SAHKhgd_AJ",
        "colab_type": "code",
        "colab": {}
      },
      "source": [
        ""
      ],
      "execution_count": 0,
      "outputs": []
    },
    {
      "cell_type": "markdown",
      "metadata": {
        "id": "omSTDQwaCftQ",
        "colab_type": "text"
      },
      "source": [
        "# References\n",
        "\n",
        "\n",
        "*   [Pragmatic AI: An Introduction to Cloud-Based Machine Learning-Physical Book](http://www.informit.com/store/pragmatic-ai-an-introduction-to-cloud-based-machine-9780134863917)\n",
        "*   [Pragmatic AI: Pragmatic AI: An Introduction to Cloud-Based Machine Learning-SafariOnline Book](https://www.safaribooksonline.com/library/view/pragmatic-ai-an/9780134863924/)\n",
        "*  [Essential Machine Learning and AI with Python and Jupyter Notebook-Video-SafariOnline](https://www.safaribooksonline.com/videos/essential-machine-learning/9780135261118)\n",
        "* [Essential Machine Learning and AI with Python and Jupyter Notebook- Purchase Video](http://www.informit.com/store/essential-machine-learning-and-ai-with-python-and-jupyter-9780135261095)\n",
        "*  [noahgift.com](https://noahgift.com/)\n",
        "*  [paiml.com](https://paiml.com/)\n",
        "*  https://storage.googleapis.com/nexttpu/index.html\n",
        "* https://riscv.org/wp-content/uploads/2017/05/Mon0915-RISC-V-50-Years-Computer-Arch.pdf\n",
        "* https://software.intel.com/en-us/ai-academy/devcloud\n",
        "* [David Patterson Says It’s Time for New Computer Architectures and Software Languages](https://spectrum.ieee.org/view-from-the-valley/computing/hardware/david-patterson-says-its-time-for-new-computer-architectures-and-software-languages)\n",
        "* [Nuclear Powered Command Line Tools](https://github.com/noahgift/nuclear_powered_command_line_tools)\n",
        "* [CUDA Colab Install](https://medium.com/@iphoenix179/running-cuda-c-c-in-jupyter-or-how-to-run-nvcc-in-google-colab-663d33f53772)\n",
        "* [Forbes: How Vertically Integrated AI Stacks Will Affect IT Organizations](https://www.forbes.com/sites/forbestechcouncil/2018/11/02/how-vertically-integrated-ai-stacks-will-affect-it-organizations/#7a2f6f691713)\n",
        "* [Forbes:  Cloud Native Machine Learning and AI](https://www.forbes.com/sites/forbestechcouncil/2018/07/05/cloud-native-machine-learning-and-ai/#34c136ab5397)\n",
        "*   [Google Machine Learning Crash Course](https://developers.google.com/machine-learning/crash-course/)\n",
        "\n",
        "\n"
      ]
    }
  ]
}